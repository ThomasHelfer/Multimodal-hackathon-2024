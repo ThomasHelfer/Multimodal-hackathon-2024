{
 "cells": [
  {
   "cell_type": "markdown",
   "metadata": {},
   "source": [
    "# Self-supervised and multi-modal representation Learning: Notebook 2\n",
    "\n",
    "Here we will build a simple encoder for light curves, and try to train it to learn useful representation via masked autoencoding (i.e., predicting a missing part of the light curve)."
   ]
  },
  {
   "cell_type": "markdown",
   "metadata": {},
   "source": [
    "## Light curve encoding via masked self-supervised learning"
   ]
  },
  {
   "cell_type": "code",
   "execution_count": 1,
   "metadata": {},
   "outputs": [],
   "source": [
    "import sys\n",
    "sys.path.append('../')\n",
    "\n",
    "import numpy as np\n",
    "import pandas as pd\n",
    "import matplotlib.pyplot as plt\n",
    "import pyarrow.parquet as pq\n",
    "\n",
    "%load_ext autoreload\n",
    "%autoreload 2"
   ]
  },
  {
   "cell_type": "markdown",
   "metadata": {},
   "source": [
    "### Data loading and pre-processing"
   ]
  },
  {
   "cell_type": "markdown",
   "metadata": {},
   "source": [
    "Let's start by loading the bulk lightcurve sample. Note that we only load one `.parquet` file here for illustration, but there are a huge number available at https://irsa.ipac.caltech.edu/Missions/ztf.html (under \"Lightcurve Bulk Download\"). \n",
    "\n",
    "Data release notes: https://irsa.ipac.caltech.edu/data/ZTF/docs/releases/ztf_release_notes_latest."
   ]
  },
  {
   "cell_type": "code",
   "execution_count": 2,
   "metadata": {},
   "outputs": [
    {
     "data": {
      "text/html": [
       "<div>\n",
       "<style scoped>\n",
       "    .dataframe tbody tr th:only-of-type {\n",
       "        vertical-align: middle;\n",
       "    }\n",
       "\n",
       "    .dataframe tbody tr th {\n",
       "        vertical-align: top;\n",
       "    }\n",
       "\n",
       "    .dataframe thead th {\n",
       "        text-align: right;\n",
       "    }\n",
       "</style>\n",
       "<table border=\"1\" class=\"dataframe\">\n",
       "  <thead>\n",
       "    <tr style=\"text-align: right;\">\n",
       "      <th></th>\n",
       "      <th>objectid</th>\n",
       "      <th>filterid</th>\n",
       "      <th>fieldid</th>\n",
       "      <th>rcid</th>\n",
       "      <th>objra</th>\n",
       "      <th>objdec</th>\n",
       "      <th>nepochs</th>\n",
       "      <th>hmjd</th>\n",
       "      <th>mag</th>\n",
       "      <th>magerr</th>\n",
       "      <th>clrcoeff</th>\n",
       "      <th>catflags</th>\n",
       "    </tr>\n",
       "  </thead>\n",
       "  <tbody>\n",
       "    <tr>\n",
       "      <th>0</th>\n",
       "      <td>1605101100000000</td>\n",
       "      <td>1</td>\n",
       "      <td>1605</td>\n",
       "      <td>0</td>\n",
       "      <td>70.702309</td>\n",
       "      <td>20.470905</td>\n",
       "      <td>64</td>\n",
       "      <td>[58362.51656, 58373.52451, 58380.52687, 58385....</td>\n",
       "      <td>[18.081408, 18.153248, 18.185818, 18.151423, 1...</td>\n",
       "      <td>[0.036423214, 0.037922166, 0.03863352, 0.03788...</td>\n",
       "      <td>[-0.004919746, -0.05696958, -0.026023958, -0.0...</td>\n",
       "      <td>[0, 0, 0, 0, 0, 0, 0, 0, 0, 0, 32768, 0, 0, 0,...</td>\n",
       "    </tr>\n",
       "    <tr>\n",
       "      <th>2</th>\n",
       "      <td>1605101100000002</td>\n",
       "      <td>1</td>\n",
       "      <td>1605</td>\n",
       "      <td>0</td>\n",
       "      <td>71.312630</td>\n",
       "      <td>20.457535</td>\n",
       "      <td>64</td>\n",
       "      <td>[58362.51651, 58373.52445, 58380.52682, 58385....</td>\n",
       "      <td>[17.337278, 17.400082, 17.389616, 17.356413, 1...</td>\n",
       "      <td>[0.02554485, 0.02619334, 0.026082417, 0.025738...</td>\n",
       "      <td>[-0.004919746, -0.05696958, -0.026023958, -0.0...</td>\n",
       "      <td>[0, 0, 0, 0, 0, 0, 0, 0, 0, 0, 0, 32768, 0, 0,...</td>\n",
       "    </tr>\n",
       "    <tr>\n",
       "      <th>3</th>\n",
       "      <td>1605101100000003</td>\n",
       "      <td>1</td>\n",
       "      <td>1605</td>\n",
       "      <td>0</td>\n",
       "      <td>70.713264</td>\n",
       "      <td>20.469236</td>\n",
       "      <td>14</td>\n",
       "      <td>[58380.52687, 58439.42102, 58494.18065, 58726....</td>\n",
       "      <td>[20.451708, 21.258446, 21.050898, 21.428753, 2...</td>\n",
       "      <td>[0.14320381, 0.1871612, 0.17555499, 0.19668484...</td>\n",
       "      <td>[-0.026023958, -0.067739874, -0.049056668, -0....</td>\n",
       "      <td>[0, 0, 0, 0, 0, 0, 0, 0, 0, 0, 0, 0, 0, 0]</td>\n",
       "    </tr>\n",
       "    <tr>\n",
       "      <th>5</th>\n",
       "      <td>1605101100000005</td>\n",
       "      <td>1</td>\n",
       "      <td>1605</td>\n",
       "      <td>0</td>\n",
       "      <td>70.988045</td>\n",
       "      <td>20.463734</td>\n",
       "      <td>64</td>\n",
       "      <td>[58362.51654, 58373.52448, 58380.52685, 58385....</td>\n",
       "      <td>[17.669598, 17.741493, 17.695265, 17.697018, 1...</td>\n",
       "      <td>[0.029478874, 0.030508809, 0.029838556, 0.0298...</td>\n",
       "      <td>[-0.004919746, -0.05696958, -0.026023958, -0.0...</td>\n",
       "      <td>[0, 0, 0, 0, 0, 0, 0, 0, 0, 0, 0, 32768, 0, 0,...</td>\n",
       "    </tr>\n",
       "    <tr>\n",
       "      <th>6</th>\n",
       "      <td>1605101100000006</td>\n",
       "      <td>1</td>\n",
       "      <td>1605</td>\n",
       "      <td>0</td>\n",
       "      <td>70.810501</td>\n",
       "      <td>20.466816</td>\n",
       "      <td>62</td>\n",
       "      <td>[58362.51655, 58373.5245, 58380.52686, 58384.3...</td>\n",
       "      <td>[18.900702, 18.937569, 18.927834, 18.747997, 1...</td>\n",
       "      <td>[0.060209155, 0.0616775, 0.06128603, 0.0545308...</td>\n",
       "      <td>[-0.004919746, -0.05696958, -0.026023958, -0.0...</td>\n",
       "      <td>[0, 0, 0, 65535, 0, 0, 0, 0, 0, 0, 0, 0, 32768...</td>\n",
       "    </tr>\n",
       "  </tbody>\n",
       "</table>\n",
       "</div>"
      ],
      "text/plain": [
       "           objectid  filterid  fieldid  rcid      objra     objdec  nepochs  \\\n",
       "0  1605101100000000         1     1605     0  70.702309  20.470905       64   \n",
       "2  1605101100000002         1     1605     0  71.312630  20.457535       64   \n",
       "3  1605101100000003         1     1605     0  70.713264  20.469236       14   \n",
       "5  1605101100000005         1     1605     0  70.988045  20.463734       64   \n",
       "6  1605101100000006         1     1605     0  70.810501  20.466816       62   \n",
       "\n",
       "                                                hmjd  \\\n",
       "0  [58362.51656, 58373.52451, 58380.52687, 58385....   \n",
       "2  [58362.51651, 58373.52445, 58380.52682, 58385....   \n",
       "3  [58380.52687, 58439.42102, 58494.18065, 58726....   \n",
       "5  [58362.51654, 58373.52448, 58380.52685, 58385....   \n",
       "6  [58362.51655, 58373.5245, 58380.52686, 58384.3...   \n",
       "\n",
       "                                                 mag  \\\n",
       "0  [18.081408, 18.153248, 18.185818, 18.151423, 1...   \n",
       "2  [17.337278, 17.400082, 17.389616, 17.356413, 1...   \n",
       "3  [20.451708, 21.258446, 21.050898, 21.428753, 2...   \n",
       "5  [17.669598, 17.741493, 17.695265, 17.697018, 1...   \n",
       "6  [18.900702, 18.937569, 18.927834, 18.747997, 1...   \n",
       "\n",
       "                                              magerr  \\\n",
       "0  [0.036423214, 0.037922166, 0.03863352, 0.03788...   \n",
       "2  [0.02554485, 0.02619334, 0.026082417, 0.025738...   \n",
       "3  [0.14320381, 0.1871612, 0.17555499, 0.19668484...   \n",
       "5  [0.029478874, 0.030508809, 0.029838556, 0.0298...   \n",
       "6  [0.060209155, 0.0616775, 0.06128603, 0.0545308...   \n",
       "\n",
       "                                            clrcoeff  \\\n",
       "0  [-0.004919746, -0.05696958, -0.026023958, -0.0...   \n",
       "2  [-0.004919746, -0.05696958, -0.026023958, -0.0...   \n",
       "3  [-0.026023958, -0.067739874, -0.049056668, -0....   \n",
       "5  [-0.004919746, -0.05696958, -0.026023958, -0.0...   \n",
       "6  [-0.004919746, -0.05696958, -0.026023958, -0.0...   \n",
       "\n",
       "                                            catflags  \n",
       "0  [0, 0, 0, 0, 0, 0, 0, 0, 0, 0, 32768, 0, 0, 0,...  \n",
       "2  [0, 0, 0, 0, 0, 0, 0, 0, 0, 0, 0, 32768, 0, 0,...  \n",
       "3         [0, 0, 0, 0, 0, 0, 0, 0, 0, 0, 0, 0, 0, 0]  \n",
       "5  [0, 0, 0, 0, 0, 0, 0, 0, 0, 0, 0, 32768, 0, 0,...  \n",
       "6  [0, 0, 0, 65535, 0, 0, 0, 0, 0, 0, 0, 0, 32768...  "
      ]
     },
     "execution_count": 2,
     "metadata": {},
     "output_type": "execute_result"
    }
   ],
   "source": [
    "bulk_df = pq.read_table(\"../data/lightcurves_bulk/ztf_001605_zg_c01_q1_dr20.parquet\").to_pandas()\n",
    "bulk_df.head()"
   ]
  },
  {
   "cell_type": "markdown",
   "metadata": {},
   "source": [
    "The data contain variable number of light curves. Let's exclude those with less than 5 observations, and for those with >100 observations pick 100 at random. Pad the shorter ones with zeros up to a length of 100. We'll also create a padding mask to be used in the encoder."
   ]
  },
  {
   "cell_type": "code",
   "execution_count": 3,
   "metadata": {},
   "outputs": [],
   "source": [
    "def preprocess_bulk_lightcurves(bulk_df, n_min_obs=5, n_max_obs=100):\n",
    "    \"\"\" Preprocess the bulk light curves by filtering out entries with < `n_min_obs` observations and randomly sampling `n_max_obs` observations from entries with > `n_max_obs` observations. \n",
    "    Pad the entries with < `n_max_obs` observations with zeros. Return the filtered dataframe and a mask array indicating which entries were padded with zeros.\n",
    "    \"\"\"\n",
    "\n",
    "    # Filter out entries with < 5 observations\n",
    "    filtered_df = bulk_df[bulk_df['mag'].apply(lambda x: len(x) >= n_min_obs)]  \n",
    "\n",
    "    # For entries with > n_max_obs observations, randomly sample 200 observations (hmjd, mag, and magerr with same sample) from the light curve\n",
    "    # Pad the entries to n_max_obs observations with zeros and create a mask array\n",
    "    mask_list = [] \n",
    "    for i in filtered_df.index:\n",
    "\n",
    "        # If there are more than n_max_obs observations, randomly sample n_max_obs observations\n",
    "        if len(filtered_df.loc[i]['mag']) > n_max_obs:\n",
    "            mask = np.ones(n_max_obs, dtype=bool)\n",
    "            mask_list.append(mask)\n",
    "\n",
    "            # Randomly sample n_max_obs observations\n",
    "            indices = np.random.choice(len(filtered_df.loc[i]['mag']), n_max_obs)\n",
    "            filtered_df.at[i, 'hmjd'] = filtered_df.loc[i]['hmjd'][indices]\n",
    "\n",
    "            # Sort the observations by time\n",
    "            sorted_indices = np.argsort(filtered_df.loc[i]['hmjd'])\n",
    "            filtered_df.at[i, 'hmjd'] = filtered_df.loc[i]['hmjd'][sorted_indices]\n",
    "            filtered_df.at[i, 'mag'] = filtered_df.loc[i]['mag'][sorted_indices]\n",
    "            filtered_df.at[i, 'magerr'] = filtered_df.loc[i]['magerr'][sorted_indices]\n",
    "\n",
    "        # Otherwise, pad the arrays with zeros\n",
    "        else:\n",
    "            mask = np.zeros(n_max_obs, dtype=bool)\n",
    "            mask[:len(filtered_df.loc[i]['mag'])] = True\n",
    "            mask_list.append(mask)\n",
    "            \n",
    "            # Pad the arrays with zeros\n",
    "            filtered_df.at[i, 'mag'] = np.pad(filtered_df.loc[i]['mag'], (0, n_max_obs - len(filtered_df.loc[i]['mag'])), 'constant')\n",
    "            filtered_df.at[i, 'magerr'] = np.pad(filtered_df.loc[i]['magerr'], (0, n_max_obs - len(filtered_df.loc[i]['magerr'])), 'constant')\n",
    "            filtered_df.at[i, 'hmjd'] = np.pad(filtered_df.loc[i]['hmjd'], (0, n_max_obs - len(filtered_df.loc[i]['hmjd'])), 'constant')\n",
    "\n",
    "    mask_ary = np.array(mask_list)\n",
    "    return filtered_df, mask_ary"
   ]
  },
  {
   "cell_type": "code",
   "execution_count": 4,
   "metadata": {},
   "outputs": [],
   "source": [
    "filtered_df, mask_ary = preprocess_bulk_lightcurves(bulk_df)"
   ]
  },
  {
   "cell_type": "markdown",
   "metadata": {},
   "source": [
    "This is a very noisy sample -- are there any quality cuts that might be useful? For example, a cut based on a correlation function of the points as a function of time-spacing?"
   ]
  },
  {
   "cell_type": "markdown",
   "metadata": {},
   "source": [
    "### Light curve encoder"
   ]
  },
  {
   "cell_type": "markdown",
   "metadata": {},
   "source": [
    "We'll start with a simple transformer-based light curve encoder. Since transformers are inherenently permutation-equivariant (i.e., insensitive to ordering -- a permutation of the inputs leads to a corresponding permuation of the outputs), we'll need to add time encodings to \"tell\" the transformer the time corresponding to each observation. \n",
    "\n",
    "This is a simple way to be able to deal with variable-length, heterogeneously sampled light curves. There are many extensions to this basic idea, see e.g.\n",
    "- https://arxiv.org/abs/2309.16316\n",
    "- https://arxiv.org/abs/2308.06404\n",
    "- https://www.aanda.org/articles/aa/full_html/2023/02/aa43928-22/aa43928-22.html\n",
    "\n",
    "and feel free to implement ideas from these or others, e.g. learnable time encoding bases."
   ]
  },
  {
   "cell_type": "code",
   "execution_count": 8,
   "metadata": {},
   "outputs": [],
   "source": [
    "# ! pip install lightning"
   ]
  },
  {
   "cell_type": "code",
   "execution_count": 9,
   "metadata": {},
   "outputs": [],
   "source": [
    "import math\n",
    "\n",
    "import torch\n",
    "import torch.nn as nn\n",
    "import pytorch_lightning as pl\n",
    "\n",
    "from models.transformer_utils import Transformer"
   ]
  },
  {
   "cell_type": "markdown",
   "metadata": {},
   "source": [
    "PyTorch has a boilerplate Transformer implementation (`nn.TransformerEncoder`), but we'll use a lower-level implementation in `models/transformer_utils.py` for a bit more flexibility if we need it. Feel free to play around with either in the block below, inspecting the outputs and their shape, effect of masking, effect of changing hyperparameters."
   ]
  },
  {
   "cell_type": "code",
   "execution_count": 10,
   "metadata": {},
   "outputs": [
    {
     "data": {
      "text/plain": [
       "tensor([[[-8.6898e-01,  4.8624e-01, -1.8998e+00,  ...,  2.4328e+00,\n",
       "           7.7723e-01,  3.5095e-01],\n",
       "         [ 1.0042e+00,  2.4902e-01, -8.9771e-02,  ...,  1.6640e+00,\n",
       "          -1.4688e+00,  4.5155e-01],\n",
       "         [ 1.3964e+00, -6.8575e-01, -4.1826e-01,  ...,  6.0775e-01,\n",
       "          -4.9317e-02, -5.3641e-01],\n",
       "         ...,\n",
       "         [ 8.6898e-01,  1.4016e+00, -6.8450e-01,  ...,  1.1423e+00,\n",
       "          -1.3511e-01,  7.4484e-04],\n",
       "         [ 1.0677e+00, -6.3324e-01, -2.7140e-01,  ..., -1.4501e-01,\n",
       "          -6.4522e-01,  1.2188e+00],\n",
       "         [ 1.0546e+00, -1.2399e-01, -1.4756e+00,  ..., -1.3302e+00,\n",
       "          -1.4218e-01, -3.6045e-01]]], grad_fn=<NativeLayerNormBackward0>)"
      ]
     },
     "execution_count": 10,
     "metadata": {},
     "output_type": "execute_result"
    }
   ],
   "source": [
    "# # Transformer from torch.nn\n",
    "# encoder_layer = nn.TransformerEncoderLayer(d_model=512, nhead=8)\n",
    "# transformer = nn.TransformerEncoder(encoder_layer, num_layers=6,)\n",
    "\n",
    "# Our transformer from models/transformer_utiles.py\n",
    "transformer = Transformer(emb=128, heads=2, depth=2, ff_hidden_mult=4)  # Instantiate\n",
    "\n",
    "# Dummy inputs\n",
    "mask = torch.ones((1, 100), dtype=torch.bool)\n",
    "x = torch.randn((1, 100, 128))\n",
    "\n",
    "# Forward pass\n",
    "transformer(x, mask)"
   ]
  },
  {
   "cell_type": "markdown",
   "metadata": {},
   "source": [
    "Now let's implement the light curve encoder. For more details on the time-encoding via fourier features, please see e.g., [here](https://uvadlc-notebooks.readthedocs.io/en/latest/tutorial_notebooks/tutorial6/Transformers_and_MHAttention.html#Positional-encoding), from where it was adapted. We'll include the time encoding depdence simply by adding the embeddings to the linear embeddings of individual light curve data points."
   ]
  },
  {
   "cell_type": "code",
   "execution_count": 11,
   "metadata": {},
   "outputs": [],
   "source": [
    "class TimePositionalEncoding(nn.Module):\n",
    "    \"\"\" Time encodings for Transformer. \n",
    "    \"\"\"\n",
    "\n",
    "    def __init__(self, d_emb):\n",
    "        \"\"\"\n",
    "        Inputs\n",
    "            d_emb - Dimensionality when projecting to the fourier feature basis.\n",
    "        \"\"\"\n",
    "        super().__init__()\n",
    "        self.d_emb = d_emb\n",
    "\n",
    "    def forward(self, t):\n",
    "        pe = torch.zeros(t.shape[0], t.shape[1], self.d_emb).to(t.device)  # (B, T, D)\n",
    "        div_term = torch.exp(torch.arange(0, self.d_emb, 2).float() * (-math.log(10000.0) / self.d_emb))[None, None, :].to(t.device)  # (1, 1, D / 2)\n",
    "        t = t.unsqueeze(2)  # (B, 1, T)\n",
    "        pe[:, :, 0::2] = torch.sin(t * div_term)  # (B, T, D / 2)\n",
    "        pe[:, :, 1::2] = torch.cos(t * div_term)  # (B, T, D / 2)\n",
    "        return pe  # (B, T, D)\n",
    "\n",
    "class TransformerWithTimeEmbeddings(nn.Module):\n",
    "    \"\"\" Transformer encoer.\n",
    "    \"\"\"\n",
    "\n",
    "    def __init__(self, n_out=1, **kwargs):\n",
    "        \"\"\"\n",
    "        :param n_out: Number of outputs per sequence element (e.g., number of bands).\n",
    "        :param kwargs: Transformer arguments.\n",
    "        \"\"\"\n",
    "        super().__init__()\n",
    "        \n",
    "        self.embedding_mag = nn.Linear(in_features=1, out_features=kwargs['emb'])\n",
    "        self.embedding_t = TimePositionalEncoding(kwargs['emb'])\n",
    "        self.transformer = Transformer(**kwargs)\n",
    "        self.projection = nn.Linear(in_features=kwargs['emb'], out_features=n_out)\n",
    "\n",
    "    def forward(self, x, t, mask=None):\n",
    "        \"\"\"\n",
    "        :param x: Input sequence (B, T, 1).\n",
    "        :param t: Time sequence (B, T).\n",
    "        :param mask: Padding mask (B, T).\n",
    "        :return: Output sequence (B, T, n_out).\n",
    "        \"\"\"\n",
    "        t = t - t[:, 0].unsqueeze(1)  # (B, T)  # Relative time\n",
    "        t_emb = self.embedding_t(t)  # (B, T, D)  # Project to embedding dimension of transformer\n",
    "        x = self.embedding_mag(x) + t_emb  # (B, T, D)  # Add time embeddings to magnitude embeddings\n",
    "        x = self.transformer(x, mask)  # (B, T, D)  # Transformer\n",
    "        x = self.projection(x)  # (B, T, n_out)  # Project each sequence element (independently) to output dim\n",
    "\n",
    "        return x\n",
    "\n",
    "transformer = TransformerWithTimeEmbeddings(n_out=1, emb=128, heads=2, depth=2)"
   ]
  },
  {
   "cell_type": "markdown",
   "metadata": {},
   "source": [
    "### Dataset prep and masking"
   ]
  },
  {
   "cell_type": "code",
   "execution_count": 12,
   "metadata": {},
   "outputs": [
    {
     "name": "stderr",
     "output_type": "stream",
     "text": [
      "/tmp/ipykernel_74480/3163406336.py:6: UserWarning: Creating a tensor from a list of numpy.ndarrays is extremely slow. Please consider converting the list to a single numpy.ndarray with numpy.array() before converting to a tensor. (Triggered internally at /opt/pytorch/pytorch/torch/csrc/utils/tensor_new.cpp:261.)\n",
      "  mag = torch.Tensor(mag)\n"
     ]
    }
   ],
   "source": [
    "mag = filtered_df['mag'].array\n",
    "magerr = filtered_df['magerr'].array\n",
    "hmjd = filtered_df['hmjd'].array\n",
    "\n",
    "# Convert to torch tensors\n",
    "mag = torch.Tensor(mag)\n",
    "magerr = torch.Tensor(magerr)\n",
    "hmjd = torch.Tensor(hmjd)\n",
    "mask = torch.Tensor(mask_ary).to(torch.bool)\n",
    "\n",
    "# Standardize mag and magerr\n",
    "mag_mean = mag.mean()\n",
    "mag_std = mag.std()\n",
    "mag = (mag - mag_mean) / mag_std\n",
    "magerr = magerr / mag_std"
   ]
  },
  {
   "cell_type": "markdown",
   "metadata": {},
   "source": [
    "Write a convenience function to get masks for the encoder."
   ]
  },
  {
   "cell_type": "code",
   "execution_count": 13,
   "metadata": {},
   "outputs": [],
   "source": [
    "# Convenience function to get random masks\n",
    "\n",
    "def get_random_mask(padding_mask, f_mask=0.15):\n",
    "    \"\"\" Get a random contiguous masks for the input sequence.\n",
    "    :param padding_mask: Padding mask (B, T).\n",
    "    :param f_mask: Fraction of mask to keep.\n",
    "    :return: Mask (B, T).\n",
    "    \"\"\"\n",
    "    mask = torch.ones_like(padding_mask)\n",
    "    mask_pred = torch.ones_like(padding_mask)\n",
    "    for i in range(padding_mask.shape[0]):\n",
    "        n_obs = padding_mask[i].sum().item()\n",
    "        n_obs_to_keep = int(n_obs * f_mask)\n",
    "        start = torch.randint(0, n_obs - n_obs_to_keep + 1, (1,)).item()\n",
    "        end = start + n_obs_to_keep\n",
    "\n",
    "        # Mask containing observations to be kept\n",
    "        mask[i, start:end] = False  # Mask out observations from start to end\n",
    "        mask[i, n_obs:] = False\n",
    "\n",
    "        # Mask only containing observations to be predicted\n",
    "        mask_pred[i, end:n_obs] = False\n",
    "        mask_pred[i, :start] = False\n",
    "        mask_pred[i, start:end] = True\n",
    "        mask_pred[i, n_obs:] = False\n",
    "        \n",
    "    return mask, mask_pred\n",
    "\n",
    "# Test the mask function\n",
    "\n",
    "f_mask = 0.15\n",
    "\n",
    "mask_test = mask[1244:]\n",
    "mask_in, mask_pred = get_random_mask(mask_test, f_mask=f_mask)  # Mask out 15% of observations"
   ]
  },
  {
   "cell_type": "code",
   "execution_count": 14,
   "metadata": {},
   "outputs": [
    {
     "name": "stdout",
     "output_type": "stream",
     "text": [
      "Mask\n"
     ]
    },
    {
     "data": {
      "image/png": "[encoded data removed]",
      "text/plain": [
       "<Figure size 2000x100 with 1 Axes>"
      ]
     },
     "metadata": {},
     "output_type": "display_data"
    },
    {
     "name": "stdout",
     "output_type": "stream",
     "text": [
      "Mask in: original mask with 0.15 of observations masked out\n"
     ]
    },
    {
     "data": {
      "image/png": "[encoded data removed]",
      "text/plain": [
       "<Figure size 2000x100 with 1 Axes>"
      ]
     },
     "metadata": {},
     "output_type": "display_data"
    },
    {
     "name": "stdout",
     "output_type": "stream",
     "text": [
      "Mask pred: observations to be predicted\n"
     ]
    },
    {
     "data": {
      "image/png": "[encoded data removed]",
      "text/plain": [
       "<Figure size 2000x100 with 1 Axes>"
      ]
     },
     "metadata": {},
     "output_type": "display_data"
    }
   ],
   "source": [
    "# Function to plot a mask\n",
    "def plot_mask(mask):\n",
    "    \"\"\" `mask` is a 1D boolean array.\n",
    "    \"\"\"\n",
    "    plt.figure(figsize=(20, 1))\n",
    "    plt.imshow(mask[None, :], aspect='auto', cmap='binary', vmin=0, vmax=1)\n",
    "    plt.yticks([])\n",
    "    plt.show()\n",
    "\n",
    "print(\"Mask\")\n",
    "plot_mask(mask_test[0].detach().numpy())\n",
    "\n",
    "print(f\"Mask in: original mask with {f_mask} of observations masked out\")\n",
    "plot_mask(mask_in[0].detach().numpy())\n",
    "\n",
    "print(\"Mask pred: observations to be predicted\")\n",
    "plot_mask(mask_pred[0].detach().numpy())"
   ]
  },
  {
   "cell_type": "markdown",
   "metadata": {},
   "source": [
    "Let's pass a small batch through our lightcurve encoder."
   ]
  },
  {
   "cell_type": "code",
   "execution_count": 15,
   "metadata": {},
   "outputs": [
    {
     "data": {
      "text/plain": [
       "torch.Size([4, 100, 1])"
      ]
     },
     "execution_count": 15,
     "metadata": {},
     "output_type": "execute_result"
    }
   ],
   "source": [
    "n_small_batch = 4\n",
    "\n",
    "out = transformer(mag[:n_small_batch].unsqueeze(-1), hmjd[:n_small_batch], mask[:n_small_batch])  # Unsqueeze just adds a channel dimension (B, T, 1)\n",
    "out.shape"
   ]
  },
  {
   "cell_type": "markdown",
   "metadata": {},
   "source": [
    "### Train masked autoencoder"
   ]
  },
  {
   "cell_type": "code",
   "execution_count": 33,
   "metadata": {},
   "outputs": [],
   "source": [
    "class MaskedLightCurveEncoder(pl.LightningModule):\n",
    "    def __init__(self, f_mask=0.2, transformer_kwargs={\"n_out\":1, \"emb\":128, \"heads\":2, \"depth\":4}, optimizer_kwargs={}, lr=1e-3):\n",
    "        super().__init__()\n",
    "\n",
    "        self.optimizer_kwargs = optimizer_kwargs\n",
    "        self.lr = lr\n",
    "        self.f_mask = f_mask\n",
    "\n",
    "        self.net = TransformerWithTimeEmbeddings(**transformer_kwargs)\n",
    "\n",
    "    def forward(self, x, t, mask=None):\n",
    "        x_mean, x_std = x.mean(axis=1, keepdims=True), x.std(axis=1, keepdims=True)\n",
    "        x = (x[..., None] - x_mean[..., None]) / x_std[..., None]\n",
    "        x = self.net(x, t, mask)\n",
    "        return x * x_std[..., None] + x_mean[..., None]\n",
    "\n",
    "    def configure_optimizers(self):\n",
    "        optimizer = torch.optim.RAdam(self.parameters(), lr=self.lr, **self.optimizer_kwargs)\n",
    "        return {\"optimizer\": optimizer}\n",
    "\n",
    "    def masked_pred(self, x, t, padding_mask, f_mask=0.15):\n",
    "        # Get random mask and predict with masked inputs; then, return only the unmasked outputs\n",
    "        mask_in, mask_pred = get_random_mask(padding_mask, f_mask=f_mask)\n",
    "        x_masked = x.clone()\n",
    "        x_masked[~mask_in] = 0\n",
    "        x_pred = self(x_masked, t, mask=padding_mask)[..., 0]  \n",
    "        return x[mask_pred], x_pred[mask_pred]\n",
    "    \n",
    "    def training_step(self, batch, batch_idx):\n",
    "        x, t, padding_mask = batch\n",
    "        x, x_pred = self.masked_pred(x, t, padding_mask, f_mask=self.f_mask)\n",
    "        loss = nn.MSELoss()(x, x_pred)\n",
    "        self.log(\"train_loss\", loss, on_epoch=True)\n",
    "        return loss\n",
    "\n",
    "    def validation_step(self, batch, batch_idx):\n",
    "        x, t, padding_mask = batch\n",
    "        x, x_pred = self.masked_pred(x, t, padding_mask, f_mask=self.f_mask)\n",
    "        loss = nn.MSELoss()(x, x_pred)\n",
    "        self.log(\"val_loss\", loss, on_epoch=True)\n",
    "        return loss"
   ]
  },
  {
   "cell_type": "code",
   "execution_count": 37,
   "metadata": {},
   "outputs": [],
   "source": [
    "mlce = MaskedLightCurveEncoder(f_mask=0.1, lr=6e-4, transformer_kwargs={\"n_out\":1, \"emb\":128, \"heads\":4, \"depth\":8})"
   ]
  },
  {
   "cell_type": "code",
   "execution_count": 35,
   "metadata": {},
   "outputs": [],
   "source": [
    "from torch.utils.data import TensorDataset, DataLoader, random_split\n",
    "\n",
    "val_fraction = 0.\n",
    "batch_size = 64\n",
    "n_samples_val = int(val_fraction * mag.shape[0])\n",
    "\n",
    "dataset = TensorDataset(mag, hmjd, mask)\n",
    "\n",
    "dataset_train, dataset_val = random_split(dataset, [mag.shape[0] - n_samples_val, n_samples_val])\n",
    "train_loader = DataLoader(dataset_train, batch_size=batch_size, num_workers=8, pin_memory=True, shuffle=True)\n",
    "val_loader = DataLoader(dataset_val, batch_size=batch_size, num_workers=8, pin_memory=True, shuffle=False)"
   ]
  },
  {
   "cell_type": "code",
   "execution_count": 29,
   "metadata": {},
   "outputs": [
    {
     "name": "stderr",
     "output_type": "stream",
     "text": [
      "Trainer will use only 1 of 8 GPUs because it is running inside an interactive / notebook environment. You may try to set `Trainer(devices=8)` but please note that multi-GPU inside interactive / notebook environments is considered experimental and unstable. Your mileage may vary.\n",
      "GPU available: True (cuda), used: True\n",
      "TPU available: False, using: 0 TPU cores\n",
      "IPU available: False, using: 0 IPUs\n",
      "HPU available: False, using: 0 HPUs\n",
      "/jet/home/smishrasharma/.local/lib/python3.10/site-packages/pytorch_lightning/callbacks/model_checkpoint.py:639: Checkpoint directory /jet/home/smishrasharma/iaifi-hackathon-2024/multimodal_ssl/notebooks/lightning_logs/version_21758889/checkpoints exists and is not empty.\n",
      "LOCAL_RANK: 0 - CUDA_VISIBLE_DEVICES: [0,1,2,3,4,5,6,7]\n",
      "\n",
      "  | Name | Type                          | Params\n",
      "-------------------------------------------------------\n",
      "0 | net  | TransformerWithTimeEmbeddings | 791 K \n",
      "-------------------------------------------------------\n",
      "791 K     Trainable params\n",
      "0         Non-trainable params\n",
      "791 K     Total params\n",
      "3.168     Total estimated model params size (MB)\n"
     ]
    },
    {
     "name": "stdout",
     "output_type": "stream",
     "text": [
      "                                                  \r"
     ]
    },
    {
     "name": "stderr",
     "output_type": "stream",
     "text": [
      "/jet/home/smishrasharma/.local/lib/python3.10/site-packages/pytorch_lightning/utilities/data.py:104: Total length of `DataLoader` across ranks is zero. Please make sure this was your intention.\n"
     ]
    },
    {
     "name": "stdout",
     "output_type": "stream",
     "text": [
      "Epoch 99: 100%|██████████| 52/52 [00:01<00:00, 27.87it/s, v_num=2.18e+7]"
     ]
    },
    {
     "name": "stderr",
     "output_type": "stream",
     "text": [
      "`Trainer.fit` stopped: `max_epochs=100` reached.\n"
     ]
    },
    {
     "name": "stdout",
     "output_type": "stream",
     "text": [
      "Epoch 99: 100%|██████████| 52/52 [00:01<00:00, 27.35it/s, v_num=2.18e+7]\n"
     ]
    }
   ],
   "source": [
    "trainer = pl.Trainer(max_epochs=100, accelerator='gpu',)\n",
    "trainer.fit(model=mlce, train_dataloaders=train_loader, val_dataloaders=val_loader)"
   ]
  },
  {
   "cell_type": "markdown",
   "metadata": {},
   "source": [
    "### Evaluation: mask-filling"
   ]
  },
  {
   "cell_type": "markdown",
   "metadata": {},
   "source": [
    "Let's load another set of bulk-downloaded spectra and see how well the encoder can fill in the masked parts of the light curves (set to zero, the special mask token)."
   ]
  },
  {
   "cell_type": "code",
   "execution_count": 39,
   "metadata": {},
   "outputs": [],
   "source": [
    "bulk_df_test = pq.read_table(\"../data/lightcurves_bulk/ztf_001605_zg_c01_q2_dr20.parquet\").to_pandas()\n",
    "filtered_df_test, mask_ary_test = preprocess_bulk_lightcurves(bulk_df_test)"
   ]
  },
  {
   "cell_type": "code",
   "execution_count": 40,
   "metadata": {},
   "outputs": [],
   "source": [
    "mag_test = filtered_df_test['mag'].array\n",
    "hmjd_test = filtered_df_test['hmjd'].array\n",
    "\n",
    "# Convert to torch tensors\n",
    "mag_test = torch.Tensor(mag_test)\n",
    "hmjd_test = torch.Tensor(hmjd_test)\n",
    "mask_test = torch.Tensor(mask_ary_test).to(torch.bool)\n",
    "\n",
    "# Standardize mag\n",
    "mag_test = (mag_test - mag_mean) / mag_std"
   ]
  },
  {
   "cell_type": "code",
   "execution_count": 42,
   "metadata": {},
   "outputs": [
    {
     "data": {
      "image/png": "[encoded data removed]",
      "text/plain": [
       "<Figure size 1200x1200 with 8 Axes>"
      ]
     },
     "metadata": {},
     "output_type": "display_data"
    }
   ],
   "source": [
    "fig, ax = plt.subplots(4, 2, figsize=(12, 12))\n",
    "\n",
    "for i in range(4):\n",
    "    for j in range(2):\n",
    "        ii = i * 2 + j\n",
    "\n",
    "        fill_min, fill_max = 2, 7  # Mask out observations from fill_min to fill_max\n",
    "        mask_tofill = mask_test[ii:ii + 1].clone()\n",
    "        mask_tofill[:, fill_min:fill_max + 1] = False\n",
    "\n",
    "        # Remove zero-padded, masked out elements\n",
    "        mag_truth = mag_test[ii:ii + 1].clone()[mask_test[ii:ii + 1]]\n",
    "        mag_test_in = mag_test[ii:ii + 1].clone()[mask_test[ii:ii + 1]]\n",
    "        hmjd_test_in = hmjd_test[ii:ii + 1].clone()[mask_test[ii:ii + 1]]\n",
    "\n",
    "        mag_test_in[fill_min:fill_max + 1] = 0\n",
    "\n",
    "        mag_pred = mlce(mag_test_in[None, ...], hmjd_test_in[None, ...],)[0, :, 0].detach().numpy()[fill_min:fill_max + 1]\n",
    "\n",
    "        ax[i, j].plot(hmjd_test_in[fill_min:fill_max + 1], mag_pred, label='pred')\n",
    "        ax[i, j].plot(hmjd_test_in, mag_truth, label='truth')\n",
    "\n",
    "        # Mark the masked observations; if fill_[min/max] is bigger than the number of observations, make it the length of the observations\n",
    "        fill_min = min(fill_min, len(hmjd_test_in) - 1)\n",
    "        fill_max = min(fill_max, len(hmjd_test_in) - 1)\n",
    "        \n",
    "        ax[i, j].axvspan(hmjd_test_in[fill_min], hmjd_test_in[fill_max], alpha=0.1, color='red', label='masked')\n",
    "        ax[i, j].legend()\n",
    "\n",
    "        ax[i, j].set_xlabel('time')\n",
    "        ax[i, j].set_ylabel('mag')"
   ]
  },
  {
   "cell_type": "markdown",
   "metadata": {},
   "source": [
    "Not great, but the light curves are very noisy, and we used a simple model trained for a short while. Can you improve the model and/or dataset?"
   ]
  },
  {
   "cell_type": "code",
   "execution_count": null,
   "metadata": {},
   "outputs": [],
   "source": []
  }
 ],
 "metadata": {
  "kernelspec": {
   "display_name": "NGC PyTorch",
   "language": "python",
   "name": "pytorch"
  },
  "language_info": {
   "codemirror_mode": {
    "name": "ipython",
    "version": 3
   },
   "file_extension": ".py",
   "mimetype": "text/x-python",
   "name": "python",
   "nbconvert_exporter": "python",
   "pygments_lexer": "ipython3",
   "version": "3.10.12"
  }
 },
 "nbformat": 4,
 "nbformat_minor": 4
}
