{
 "cells": [
  {
   "cell_type": "markdown",
   "metadata": {},
   "source": [
    "# Self-supervised and multi-modal representation Learning: Opening bulk spectra"
   ]
  },
  {
   "cell_type": "markdown",
   "metadata": {},
   "source": [
    "## Light curve encoding via masked self-supervised learning"
   ]
  },
  {
   "cell_type": "code",
   "execution_count": 1,
   "metadata": {},
   "outputs": [],
   "source": [
    "import sys\n",
    "sys.path.append('../')\n",
    "\n",
    "import numpy as np\n",
    "import pandas as pd\n",
    "import matplotlib.pyplot as plt\n",
    "import pyarrow.parquet as pq\n",
    "\n",
    "%load_ext autoreload\n",
    "%autoreload 2"
   ]
  },
  {
   "cell_type": "markdown",
   "metadata": {},
   "source": [
    "### Data loading and pre-processing"
   ]
  },
  {
   "cell_type": "markdown",
   "metadata": {},
   "source": [
    "Let's start by loading the bulk lightcurve sample. Note that we only load one `.parquet` file here for illustration, but there are a huge number available at https://irsa.ipac.caltech.edu/Missions/ztf.html (under \"Lightcurve Bulk Download\"). \n",
    "\n",
    "Data release notes: https://irsa.ipac.caltech.edu/data/ZTF/docs/releases/ztf_release_notes_latest."
   ]
  },
  {
   "cell_type": "code",
   "execution_count": 2,
   "metadata": {},
   "outputs": [
    {
     "data": {
      "text/html": [
       "<div>\n",
       "<style scoped>\n",
       "    .dataframe tbody tr th:only-of-type {\n",
       "        vertical-align: middle;\n",
       "    }\n",
       "\n",
       "    .dataframe tbody tr th {\n",
       "        vertical-align: top;\n",
       "    }\n",
       "\n",
       "    .dataframe thead th {\n",
       "        text-align: right;\n",
       "    }\n",
       "</style>\n",
       "<table border=\"1\" class=\"dataframe\">\n",
       "  <thead>\n",
       "    <tr style=\"text-align: right;\">\n",
       "      <th></th>\n",
       "      <th>objectid</th>\n",
       "      <th>filterid</th>\n",
       "      <th>fieldid</th>\n",
       "      <th>rcid</th>\n",
       "      <th>objra</th>\n",
       "      <th>objdec</th>\n",
       "      <th>nepochs</th>\n",
       "      <th>hmjd</th>\n",
       "      <th>mag</th>\n",
       "      <th>magerr</th>\n",
       "      <th>clrcoeff</th>\n",
       "      <th>catflags</th>\n",
       "    </tr>\n",
       "  </thead>\n",
       "  <tbody>\n",
       "    <tr>\n",
       "      <th>0</th>\n",
       "      <td>1605101100000000</td>\n",
       "      <td>1</td>\n",
       "      <td>1605</td>\n",
       "      <td>0</td>\n",
       "      <td>70.702309</td>\n",
       "      <td>20.470905</td>\n",
       "      <td>64</td>\n",
       "      <td>[58362.51656, 58373.52451, 58380.52687, 58385....</td>\n",
       "      <td>[18.081408, 18.153248, 18.185818, 18.151423, 1...</td>\n",
       "      <td>[0.036423214, 0.037922166, 0.03863352, 0.03788...</td>\n",
       "      <td>[-0.004919746, -0.05696958, -0.026023958, -0.0...</td>\n",
       "      <td>[0, 0, 0, 0, 0, 0, 0, 0, 0, 0, 32768, 0, 0, 0,...</td>\n",
       "    </tr>\n",
       "    <tr>\n",
       "      <th>2</th>\n",
       "      <td>1605101100000002</td>\n",
       "      <td>1</td>\n",
       "      <td>1605</td>\n",
       "      <td>0</td>\n",
       "      <td>71.312630</td>\n",
       "      <td>20.457535</td>\n",
       "      <td>64</td>\n",
       "      <td>[58362.51651, 58373.52445, 58380.52682, 58385....</td>\n",
       "      <td>[17.337278, 17.400082, 17.389616, 17.356413, 1...</td>\n",
       "      <td>[0.02554485, 0.02619334, 0.026082417, 0.025738...</td>\n",
       "      <td>[-0.004919746, -0.05696958, -0.026023958, -0.0...</td>\n",
       "      <td>[0, 0, 0, 0, 0, 0, 0, 0, 0, 0, 0, 32768, 0, 0,...</td>\n",
       "    </tr>\n",
       "    <tr>\n",
       "      <th>3</th>\n",
       "      <td>1605101100000003</td>\n",
       "      <td>1</td>\n",
       "      <td>1605</td>\n",
       "      <td>0</td>\n",
       "      <td>70.713264</td>\n",
       "      <td>20.469236</td>\n",
       "      <td>14</td>\n",
       "      <td>[58380.52687, 58439.42102, 58494.18065, 58726....</td>\n",
       "      <td>[20.451708, 21.258446, 21.050898, 21.428753, 2...</td>\n",
       "      <td>[0.14320381, 0.1871612, 0.17555499, 0.19668484...</td>\n",
       "      <td>[-0.026023958, -0.067739874, -0.049056668, -0....</td>\n",
       "      <td>[0, 0, 0, 0, 0, 0, 0, 0, 0, 0, 0, 0, 0, 0]</td>\n",
       "    </tr>\n",
       "    <tr>\n",
       "      <th>5</th>\n",
       "      <td>1605101100000005</td>\n",
       "      <td>1</td>\n",
       "      <td>1605</td>\n",
       "      <td>0</td>\n",
       "      <td>70.988045</td>\n",
       "      <td>20.463734</td>\n",
       "      <td>64</td>\n",
       "      <td>[58362.51654, 58373.52448, 58380.52685, 58385....</td>\n",
       "      <td>[17.669598, 17.741493, 17.695265, 17.697018, 1...</td>\n",
       "      <td>[0.029478874, 0.030508809, 0.029838556, 0.0298...</td>\n",
       "      <td>[-0.004919746, -0.05696958, -0.026023958, -0.0...</td>\n",
       "      <td>[0, 0, 0, 0, 0, 0, 0, 0, 0, 0, 0, 32768, 0, 0,...</td>\n",
       "    </tr>\n",
       "    <tr>\n",
       "      <th>6</th>\n",
       "      <td>1605101100000006</td>\n",
       "      <td>1</td>\n",
       "      <td>1605</td>\n",
       "      <td>0</td>\n",
       "      <td>70.810501</td>\n",
       "      <td>20.466816</td>\n",
       "      <td>62</td>\n",
       "      <td>[58362.51655, 58373.5245, 58380.52686, 58384.3...</td>\n",
       "      <td>[18.900702, 18.937569, 18.927834, 18.747997, 1...</td>\n",
       "      <td>[0.060209155, 0.0616775, 0.06128603, 0.0545308...</td>\n",
       "      <td>[-0.004919746, -0.05696958, -0.026023958, -0.0...</td>\n",
       "      <td>[0, 0, 0, 65535, 0, 0, 0, 0, 0, 0, 0, 0, 32768...</td>\n",
       "    </tr>\n",
       "  </tbody>\n",
       "</table>\n",
       "</div>"
      ],
      "text/plain": [
       "           objectid  filterid  fieldid  rcid      objra     objdec  nepochs  \\\n",
       "0  1605101100000000         1     1605     0  70.702309  20.470905       64   \n",
       "2  1605101100000002         1     1605     0  71.312630  20.457535       64   \n",
       "3  1605101100000003         1     1605     0  70.713264  20.469236       14   \n",
       "5  1605101100000005         1     1605     0  70.988045  20.463734       64   \n",
       "6  1605101100000006         1     1605     0  70.810501  20.466816       62   \n",
       "\n",
       "                                                hmjd  \\\n",
       "0  [58362.51656, 58373.52451, 58380.52687, 58385....   \n",
       "2  [58362.51651, 58373.52445, 58380.52682, 58385....   \n",
       "3  [58380.52687, 58439.42102, 58494.18065, 58726....   \n",
       "5  [58362.51654, 58373.52448, 58380.52685, 58385....   \n",
       "6  [58362.51655, 58373.5245, 58380.52686, 58384.3...   \n",
       "\n",
       "                                                 mag  \\\n",
       "0  [18.081408, 18.153248, 18.185818, 18.151423, 1...   \n",
       "2  [17.337278, 17.400082, 17.389616, 17.356413, 1...   \n",
       "3  [20.451708, 21.258446, 21.050898, 21.428753, 2...   \n",
       "5  [17.669598, 17.741493, 17.695265, 17.697018, 1...   \n",
       "6  [18.900702, 18.937569, 18.927834, 18.747997, 1...   \n",
       "\n",
       "                                              magerr  \\\n",
       "0  [0.036423214, 0.037922166, 0.03863352, 0.03788...   \n",
       "2  [0.02554485, 0.02619334, 0.026082417, 0.025738...   \n",
       "3  [0.14320381, 0.1871612, 0.17555499, 0.19668484...   \n",
       "5  [0.029478874, 0.030508809, 0.029838556, 0.0298...   \n",
       "6  [0.060209155, 0.0616775, 0.06128603, 0.0545308...   \n",
       "\n",
       "                                            clrcoeff  \\\n",
       "0  [-0.004919746, -0.05696958, -0.026023958, -0.0...   \n",
       "2  [-0.004919746, -0.05696958, -0.026023958, -0.0...   \n",
       "3  [-0.026023958, -0.067739874, -0.049056668, -0....   \n",
       "5  [-0.004919746, -0.05696958, -0.026023958, -0.0...   \n",
       "6  [-0.004919746, -0.05696958, -0.026023958, -0.0...   \n",
       "\n",
       "                                            catflags  \n",
       "0  [0, 0, 0, 0, 0, 0, 0, 0, 0, 0, 32768, 0, 0, 0,...  \n",
       "2  [0, 0, 0, 0, 0, 0, 0, 0, 0, 0, 0, 32768, 0, 0,...  \n",
       "3         [0, 0, 0, 0, 0, 0, 0, 0, 0, 0, 0, 0, 0, 0]  \n",
       "5  [0, 0, 0, 0, 0, 0, 0, 0, 0, 0, 0, 32768, 0, 0,...  \n",
       "6  [0, 0, 0, 65535, 0, 0, 0, 0, 0, 0, 0, 0, 32768...  "
      ]
     },
     "execution_count": 2,
     "metadata": {},
     "output_type": "execute_result"
    }
   ],
   "source": [
    "bulk_df = pq.read_table(\"../data/lightcurves_bulk/ztf_001605_zg_c01_q1_dr20.parquet\").to_pandas()\n",
    "bulk_df.head()"
   ]
  },
  {
   "cell_type": "markdown",
   "metadata": {},
   "source": [
    "The data contain variable number of light curves. Let's exclude those with less than 5 observations, and for those with >100 observations pick 100 at random. Pad the shorter ones with zeros up to a length of 100. We'll also create a padding mask to be used in the encoder."
   ]
  },
  {
   "cell_type": "code",
   "execution_count": 3,
   "metadata": {},
   "outputs": [],
   "source": [
    "def preprocess_bulk_lightcurves(bulk_df, n_min_obs=5, n_max_obs=100):\n",
    "    \"\"\" Preprocess the bulk light curves by filtering out entries with < `n_min_obs` observations and randomly sampling `n_max_obs` observations from entries with > `n_max_obs` observations. \n",
    "    Pad the entries with < `n_max_obs` observations with zeros. Return the filtered dataframe and a mask array indicating which entries were padded with zeros.\n",
    "    \"\"\"\n",
    "\n",
    "    # Filter out entries with < 5 observations\n",
    "    filtered_df = bulk_df[bulk_df['mag'].apply(lambda x: len(x) >= n_min_obs)]  \n",
    "\n",
    "    # For entries with > n_max_obs observations, randomly sample 200 observations (hmjd, mag, and magerr with same sample) from the light curve\n",
    "    # Pad the entries to n_max_obs observations with zeros and create a mask array\n",
    "    mask_list = [] \n",
    "    for i in filtered_df.index:\n",
    "\n",
    "        # If there are more than n_max_obs observations, randomly sample n_max_obs observations\n",
    "        if len(filtered_df.loc[i]['mag']) > n_max_obs:\n",
    "            mask = np.ones(n_max_obs, dtype=bool)\n",
    "            mask_list.append(mask)\n",
    "\n",
    "            # Randomly sample n_max_obs observations\n",
    "            indices = np.random.choice(len(filtered_df.loc[i]['mag']), n_max_obs)\n",
    "            filtered_df.at[i, 'hmjd'] = filtered_df.loc[i]['hmjd'][indices]\n",
    "\n",
    "            # Sort the observations by time\n",
    "            sorted_indices = np.argsort(filtered_df.loc[i]['hmjd'])\n",
    "            filtered_df.at[i, 'hmjd'] = filtered_df.loc[i]['hmjd'][sorted_indices]\n",
    "            filtered_df.at[i, 'mag'] = filtered_df.loc[i]['mag'][sorted_indices]\n",
    "            filtered_df.at[i, 'magerr'] = filtered_df.loc[i]['magerr'][sorted_indices]\n",
    "\n",
    "        # Otherwise, pad the arrays with zeros\n",
    "        else:\n",
    "            mask = np.zeros(n_max_obs, dtype=bool)\n",
    "            mask[:len(filtered_df.loc[i]['mag'])] = True\n",
    "            mask_list.append(mask)\n",
    "            \n",
    "            # Pad the arrays with zeros\n",
    "            filtered_df.at[i, 'mag'] = np.pad(filtered_df.loc[i]['mag'], (0, n_max_obs - len(filtered_df.loc[i]['mag'])), 'constant')\n",
    "            filtered_df.at[i, 'magerr'] = np.pad(filtered_df.loc[i]['magerr'], (0, n_max_obs - len(filtered_df.loc[i]['magerr'])), 'constant')\n",
    "            filtered_df.at[i, 'hmjd'] = np.pad(filtered_df.loc[i]['hmjd'], (0, n_max_obs - len(filtered_df.loc[i]['hmjd'])), 'constant')\n",
    "\n",
    "    mask_ary = np.array(mask_list)\n",
    "    return filtered_df, mask_ary"
   ]
  },
  {
   "cell_type": "code",
   "execution_count": 4,
   "metadata": {},
   "outputs": [],
   "source": [
    "filtered_df, mask_ary = preprocess_bulk_lightcurves(bulk_df)"
   ]
  },
  {
   "cell_type": "markdown",
   "metadata": {},
   "source": [
    "This is a very noisy sample -- are there any quality cuts that might be useful? For example, a cut based on a correlation function of the points as a function of time-spacing?"
   ]
  },
  {
   "cell_type": "code",
   "execution_count": null,
   "metadata": {},
   "outputs": [],
   "source": []
  }
 ],
 "metadata": {
  "kernelspec": {
   "display_name": "NGC PyTorch",
   "language": "python",
   "name": "pytorch"
  },
  "language_info": {
   "codemirror_mode": {
    "name": "ipython",
    "version": 3
   },
   "file_extension": ".py",
   "mimetype": "text/x-python",
   "name": "python",
   "nbconvert_exporter": "python",
   "pygments_lexer": "ipython3",
   "version": "3.10.12"
  }
 },
 "nbformat": 4,
 "nbformat_minor": 4
}
