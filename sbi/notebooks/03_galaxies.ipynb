{
 "cells": [
  {
   "cell_type": "markdown",
   "metadata": {},
   "source": [
    "# Simulation-based (likelihood-free) inference\n",
    "\n",
    "## Galaxy clustering starter problem\n",
    "\n",
    "**Siddharth Mishra-Sharma** ([smsharma@mit.edu](mailto:smsharma@mit.edu))"
   ]
  },
  {
   "cell_type": "code",
   "execution_count": 52,
   "metadata": {},
   "outputs": [],
   "source": [
    "import torch\n",
    "import numpy as np\n",
    "import pandas as pd"
   ]
  },
  {
   "cell_type": "code",
   "execution_count": 53,
   "metadata": {},
   "outputs": [],
   "source": [
    "# ! pip install torch_geometric torch_cluster"
   ]
  },
  {
   "cell_type": "code",
   "execution_count": 57,
   "metadata": {},
   "outputs": [
    {
     "data": {
      "text/plain": [
       "(1800, 5000, 7)"
      ]
     },
     "execution_count": 57,
     "metadata": {},
     "output_type": "execute_result"
    }
   ],
   "source": [
    "# Load galaxy point cloud data\n",
    "x_train = np.load(\"../data/set_diffuser_data/train_halos.npy\")\n",
    "\n",
    "x_train.shape  # (n_data, n_points, n_features); features are (x, y, z, vx, vy, vz, mass)"
   ]
  },
  {
   "cell_type": "code",
   "execution_count": 58,
   "metadata": {},
   "outputs": [
    {
     "data": {
      "text/html": [
       "<div>\n",
       "<style scoped>\n",
       "    .dataframe tbody tr th:only-of-type {\n",
       "        vertical-align: middle;\n",
       "    }\n",
       "\n",
       "    .dataframe tbody tr th {\n",
       "        vertical-align: top;\n",
       "    }\n",
       "\n",
       "    .dataframe thead th {\n",
       "        text-align: right;\n",
       "    }\n",
       "</style>\n",
       "<table border=\"1\" class=\"dataframe\">\n",
       "  <thead>\n",
       "    <tr style=\"text-align: right;\">\n",
       "      <th></th>\n",
       "      <th>Omega_m</th>\n",
       "      <th>Omega_b</th>\n",
       "      <th>h</th>\n",
       "      <th>n_s</th>\n",
       "      <th>sigma_8</th>\n",
       "    </tr>\n",
       "  </thead>\n",
       "  <tbody>\n",
       "    <tr>\n",
       "      <th>0</th>\n",
       "      <td>0.1755</td>\n",
       "      <td>0.06681</td>\n",
       "      <td>0.7737</td>\n",
       "      <td>0.8849</td>\n",
       "      <td>0.6641</td>\n",
       "    </tr>\n",
       "    <tr>\n",
       "      <th>1</th>\n",
       "      <td>0.2139</td>\n",
       "      <td>0.05557</td>\n",
       "      <td>0.8599</td>\n",
       "      <td>0.9785</td>\n",
       "      <td>0.8619</td>\n",
       "    </tr>\n",
       "    <tr>\n",
       "      <th>2</th>\n",
       "      <td>0.1867</td>\n",
       "      <td>0.04503</td>\n",
       "      <td>0.6189</td>\n",
       "      <td>0.8307</td>\n",
       "      <td>0.7187</td>\n",
       "    </tr>\n",
       "    <tr>\n",
       "      <th>3</th>\n",
       "      <td>0.3271</td>\n",
       "      <td>0.06875</td>\n",
       "      <td>0.6313</td>\n",
       "      <td>0.8135</td>\n",
       "      <td>0.8939</td>\n",
       "    </tr>\n",
       "    <tr>\n",
       "      <th>4</th>\n",
       "      <td>0.1433</td>\n",
       "      <td>0.06347</td>\n",
       "      <td>0.6127</td>\n",
       "      <td>1.1501</td>\n",
       "      <td>0.7699</td>\n",
       "    </tr>\n",
       "  </tbody>\n",
       "</table>\n",
       "</div>"
      ],
      "text/plain": [
       "   Omega_m  Omega_b       h     n_s  sigma_8\n",
       "0   0.1755  0.06681  0.7737  0.8849   0.6641\n",
       "1   0.2139  0.05557  0.8599  0.9785   0.8619\n",
       "2   0.1867  0.04503  0.6189  0.8307   0.7187\n",
       "3   0.3271  0.06875  0.6313  0.8135   0.8939\n",
       "4   0.1433  0.06347  0.6127  1.1501   0.7699"
      ]
     },
     "execution_count": 58,
     "metadata": {},
     "output_type": "execute_result"
    }
   ],
   "source": [
    "theta_train = pd.read_csv(\"../data/set_diffuser_data/train_cosmology.csv\")\n",
    "\n",
    "theta_train.head()"
   ]
  },
  {
   "cell_type": "code",
   "execution_count": 59,
   "metadata": {},
   "outputs": [],
   "source": [
    "import torch_geometric\n",
    "from torch_geometric.data import Data\n",
    "from torch_cluster import radius_graph\n",
    "\n",
    "x_pos = torch.tensor(x_train[:4, :, :3], dtype=torch.float)      \n",
    "\n",
    "# Build radius graph x_pos is (n_data, n_points, 3), so flatten to (n_data * n_points, 3) and then build graph\n",
    "batch = torch.repeat_interleave(torch.arange(x_pos.shape[0]), x_pos.shape[1])\n",
    "edge_index = radius_graph(x_pos.view(-1, 3), r=100, batch=batch)"
   ]
  },
  {
   "cell_type": "code",
   "execution_count": 62,
   "metadata": {},
   "outputs": [],
   "source": [
    "from torch_geometric.nn import GCNConv  # Graph convolutional layer from PyG\n",
    "\n",
    "class GNN(torch.nn.Module):\n",
    "    def __init__(self, in_channels=3, hidden_channels=32, out_features=64, num_layers=3):\n",
    "        super(GNN, self).__init__()\n",
    "\n",
    "        # Graph convolutional layers\n",
    "        self.graph_layers = torch.nn.ModuleList()\n",
    "        for i in range(num_layers):\n",
    "            if i == 0:\n",
    "                self.graph_layers.append(GCNConv(in_channels, hidden_channels))\n",
    "            else:\n",
    "                self.graph_layers.append(GCNConv(hidden_channels, hidden_channels))\n",
    "        \n",
    "        # Readout layer\n",
    "        self.readout_layer = torch.nn.Linear(hidden_channels, out_features)\n",
    "\n",
    "    def forward(self, x, edge_index, batch):\n",
    "        for layer in self.graph_layers:\n",
    "            x = torch.nn.functional.relu(layer(x, edge_index))\n",
    "        \n",
    "        # Mean-aggregate over nodes in each graph\n",
    "        x = torch_geometric.nn.global_mean_pool(x, batch)\n",
    "        x = self.readout_layer(x)\n",
    "        return x"
   ]
  },
  {
   "cell_type": "code",
   "execution_count": 64,
   "metadata": {},
   "outputs": [],
   "source": [
    "# Test instantiating GNN and running it on a small batch of data\n",
    "gnn = GNN(in_channels=3, hidden_channels=32, out_features=64, num_layers=3)\n",
    "features = gnn(x_pos.view(-1, 3), edge_index, batch)"
   ]
  },
  {
   "cell_type": "code",
   "execution_count": 65,
   "metadata": {},
   "outputs": [
    {
     "data": {
      "text/plain": [
       "torch.Size([4, 64])"
      ]
     },
     "execution_count": 65,
     "metadata": {},
     "output_type": "execute_result"
    }
   ],
   "source": [
    "features.shape"
   ]
  },
  {
   "cell_type": "code",
   "execution_count": null,
   "metadata": {},
   "outputs": [],
   "source": []
  }
 ],
 "metadata": {
  "kernelspec": {
   "display_name": "cfm",
   "language": "python",
   "name": "python3"
  },
  "language_info": {
   "codemirror_mode": {
    "name": "ipython",
    "version": 3
   },
   "file_extension": ".py",
   "mimetype": "text/x-python",
   "name": "python",
   "nbconvert_exporter": "python",
   "pygments_lexer": "ipython3",
   "version": "3.10.12"
  }
 },
 "nbformat": 4,
 "nbformat_minor": 2
}
